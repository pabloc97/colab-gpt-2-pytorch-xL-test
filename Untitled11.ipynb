{
  "nbformat": 4,
  "nbformat_minor": 0,
  "metadata": {
    "colab": {
      "name": "Untitled11.ipynb",
      "provenance": [],
      "collapsed_sections": [],
      "authorship_tag": "ABX9TyPAcabR6b+2C5tRCWNqgMm6",
      "include_colab_link": true
    },
    "kernelspec": {
      "name": "python3",
      "display_name": "Python 3"
    },
    "accelerator": "TPU"
  },
  "cells": [
    {
      "cell_type": "markdown",
      "metadata": {
        "id": "view-in-github",
        "colab_type": "text"
      },
      "source": [
        "<a href=\"https://colab.research.google.com/github/pabloc97/colab-gpt-2-pytorch-xL-test/blob/master/Untitled11.ipynb\" target=\"_parent\"><img src=\"https://colab.research.google.com/assets/colab-badge.svg\" alt=\"Open In Colab\"/></a>"
      ]
    },
    {
      "cell_type": "code",
      "metadata": {
        "id": "4L7HpNaFHO5D",
        "colab_type": "code",
        "colab": {
          "base_uri": "https://localhost:8080/",
          "height": 406
        },
        "outputId": "04afcaeb-6876-49b4-e611-160129eea1f5"
      },
      "source": [
        "!git clone https://github.com/graykode/gpt-2-Pytorch\n",
        "%cd gpt-2-Pytorch\n",
        "!pip install -r requirements.txt\n",
        "!curl --output gpt2-pytorch_model.bin https://s3.amazonaws.com/models.huggingface.co/bert/gpt2-xl-pytorch_model.bin"
      ],
      "execution_count": 2,
      "outputs": [
        {
          "output_type": "stream",
          "text": [
            "Cloning into 'gpt-2-Pytorch'...\n",
            "remote: Enumerating objects: 130, done.\u001b[K\n",
            "remote: Total 130 (delta 0), reused 0 (delta 0), pack-reused 130\u001b[K\n",
            "Receiving objects: 100% (130/130), 2.39 MiB | 11.70 MiB/s, done.\n",
            "Resolving deltas: 100% (48/48), done.\n",
            "/content/gpt-2-Pytorch\n",
            "Collecting regex==2017.4.5\n",
            "\u001b[?25l  Downloading https://files.pythonhosted.org/packages/36/62/c0c0d762ffd4ffaf39f372eb8561b8d491a11ace5a7884610424a8b40f95/regex-2017.04.05.tar.gz (601kB)\n",
            "\u001b[K     |████████████████████████████████| 604kB 3.2MB/s \n",
            "\u001b[?25hBuilding wheels for collected packages: regex\n",
            "  Building wheel for regex (setup.py) ... \u001b[?25l\u001b[?25hdone\n",
            "  Created wheel for regex: filename=regex-2017.4.5-cp36-cp36m-linux_x86_64.whl size=533205 sha256=b65e5805fd4a712bf50a7d72dd913c39c182d3b78b8baad5e9c5a0fed67a2510\n",
            "  Stored in directory: /root/.cache/pip/wheels/75/07/38/3c16b529d50cb4e0cd3dbc7b75cece8a09c132692c74450b01\n",
            "Successfully built regex\n",
            "Installing collected packages: regex\n",
            "  Found existing installation: regex 2019.12.20\n",
            "    Uninstalling regex-2019.12.20:\n",
            "      Successfully uninstalled regex-2019.12.20\n",
            "Successfully installed regex-2017.4.5\n",
            "  % Total    % Received % Xferd  Average Speed   Time    Time     Time  Current\n",
            "                                 Dload  Upload   Total   Spent    Left  Speed\n",
            "100 6133M  100 6133M    0     0  44.1M      0  0:02:18  0:02:18 --:--:-- 51.3M\n"
          ],
          "name": "stdout"
        }
      ]
    },
    {
      "cell_type": "code",
      "metadata": {
        "id": "v48ReHsDeRAk",
        "colab_type": "code",
        "colab": {}
      },
      "source": [
        "!python main.py --text \"Electric cars run at least partially on electricity. Unlike conventional vehicles that use a gasoline or diesel-powered engine, electric cars and trucks use an electric motor powered by electricity from batteries or a fuel cell.\" --quiet=true --nsamples 5 --length 600"
      ],
      "execution_count": null,
      "outputs": []
    }
  ]
}